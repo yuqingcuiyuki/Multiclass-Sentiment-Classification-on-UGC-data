{
 "cells": [
  {
   "cell_type": "code",
   "execution_count": 1,
   "id": "c1a98929",
   "metadata": {},
   "outputs": [],
   "source": [
    "import pandas as pd\n",
    "import numpy as np"
   ]
  },
  {
   "cell_type": "code",
   "execution_count": 2,
   "id": "5cb1a0db",
   "metadata": {},
   "outputs": [],
   "source": [
    "import re\n",
    "import nltk\n",
    "import string\n",
    "from nltk.tokenize import word_tokenize\n",
    "from nltk.corpus import stopwords\n",
    "from nltk.stem.porter import PorterStemmer"
   ]
  },
  {
   "cell_type": "code",
   "execution_count": 3,
   "id": "47f7d7a2",
   "metadata": {},
   "outputs": [],
   "source": [
    "import warnings\n",
    "warnings.filterwarnings(\"ignore\")"
   ]
  },
  {
   "cell_type": "code",
   "execution_count": 4,
   "id": "cf36ff1f",
   "metadata": {},
   "outputs": [
    {
     "data": {
      "text/html": [
       "<div>\n",
       "<style scoped>\n",
       "    .dataframe tbody tr th:only-of-type {\n",
       "        vertical-align: middle;\n",
       "    }\n",
       "\n",
       "    .dataframe tbody tr th {\n",
       "        vertical-align: top;\n",
       "    }\n",
       "\n",
       "    .dataframe thead th {\n",
       "        text-align: right;\n",
       "    }\n",
       "</style>\n",
       "<table border=\"1\" class=\"dataframe\">\n",
       "  <thead>\n",
       "    <tr style=\"text-align: right;\">\n",
       "      <th></th>\n",
       "      <th>text</th>\n",
       "      <th>label</th>\n",
       "      <th>data_source</th>\n",
       "    </tr>\n",
       "  </thead>\n",
       "  <tbody>\n",
       "    <tr>\n",
       "      <th>0</th>\n",
       "      <td>AHHH I HOPE YOUR OK ! ! !</td>\n",
       "      <td>negative</td>\n",
       "      <td>sentiment-140</td>\n",
       "    </tr>\n",
       "    <tr>\n",
       "      <th>1</th>\n",
       "      <td>cool , i have no tweet apps for my razr 2</td>\n",
       "      <td>negative</td>\n",
       "      <td>sentiment-140</td>\n",
       "    </tr>\n",
       "    <tr>\n",
       "      <th>2</th>\n",
       "      <td>i know just family drama . its lame.hey next t...</td>\n",
       "      <td>negative</td>\n",
       "      <td>sentiment-140</td>\n",
       "    </tr>\n",
       "    <tr>\n",
       "      <th>3</th>\n",
       "      <td>School email won't open and I have geography s...</td>\n",
       "      <td>negative</td>\n",
       "      <td>sentiment-140</td>\n",
       "    </tr>\n",
       "    <tr>\n",
       "      <th>4</th>\n",
       "      <td>upper airways problem</td>\n",
       "      <td>negative</td>\n",
       "      <td>sentiment-140</td>\n",
       "    </tr>\n",
       "  </tbody>\n",
       "</table>\n",
       "</div>"
      ],
      "text/plain": [
       "                                                text     label    data_source\n",
       "0                          AHHH I HOPE YOUR OK ! ! !  negative  sentiment-140\n",
       "1          cool , i have no tweet apps for my razr 2  negative  sentiment-140\n",
       "2  i know just family drama . its lame.hey next t...  negative  sentiment-140\n",
       "3  School email won't open and I have geography s...  negative  sentiment-140\n",
       "4                              upper airways problem  negative  sentiment-140"
      ]
     },
     "execution_count": 4,
     "metadata": {},
     "output_type": "execute_result"
    }
   ],
   "source": [
    "train=pd.read_csv('train_data.csv')\n",
    "train.head()"
   ]
  },
  {
   "cell_type": "code",
   "execution_count": 5,
   "id": "1a9c8eb3",
   "metadata": {},
   "outputs": [
    {
     "data": {
      "text/plain": [
       "label\n",
       "negative    13652\n",
       "neutral     11767\n",
       "positive    14634\n",
       "Name: label, dtype: int64"
      ]
     },
     "execution_count": 5,
     "metadata": {},
     "output_type": "execute_result"
    }
   ],
   "source": [
    "train.groupby('label')['label'].count() "
   ]
  },
  {
   "cell_type": "code",
   "execution_count": 6,
   "id": "7d33de90",
   "metadata": {},
   "outputs": [
    {
     "data": {
      "text/html": [
       "<div>\n",
       "<style scoped>\n",
       "    .dataframe tbody tr th:only-of-type {\n",
       "        vertical-align: middle;\n",
       "    }\n",
       "\n",
       "    .dataframe tbody tr th {\n",
       "        vertical-align: top;\n",
       "    }\n",
       "\n",
       "    .dataframe thead th {\n",
       "        text-align: right;\n",
       "    }\n",
       "</style>\n",
       "<table border=\"1\" class=\"dataframe\">\n",
       "  <thead>\n",
       "    <tr style=\"text-align: right;\">\n",
       "      <th></th>\n",
       "      <th>text</th>\n",
       "      <th>label</th>\n",
       "      <th>data_source</th>\n",
       "    </tr>\n",
       "  </thead>\n",
       "  <tbody>\n",
       "    <tr>\n",
       "      <th>0</th>\n",
       "      <td>I loooooooovvvvvveee my Kindle2. Not that the ...</td>\n",
       "      <td>positive</td>\n",
       "      <td>sentiment-140</td>\n",
       "    </tr>\n",
       "    <tr>\n",
       "      <th>1</th>\n",
       "      <td>Reading my kindle2. . . Love it . . . Lee chil...</td>\n",
       "      <td>positive</td>\n",
       "      <td>sentiment-140</td>\n",
       "    </tr>\n",
       "    <tr>\n",
       "      <th>2</th>\n",
       "      <td>Ok , first assesment of the #kindle2 . . . it ...</td>\n",
       "      <td>positive</td>\n",
       "      <td>sentiment-140</td>\n",
       "    </tr>\n",
       "    <tr>\n",
       "      <th>3</th>\n",
       "      <td>You'll love your Kindle2. I've had mine for a ...</td>\n",
       "      <td>positive</td>\n",
       "      <td>sentiment-140</td>\n",
       "    </tr>\n",
       "    <tr>\n",
       "      <th>4</th>\n",
       "      <td>Fair enough . But i have the Kindle2 and I thi...</td>\n",
       "      <td>positive</td>\n",
       "      <td>sentiment-140</td>\n",
       "    </tr>\n",
       "  </tbody>\n",
       "</table>\n",
       "</div>"
      ],
      "text/plain": [
       "                                                text     label    data_source\n",
       "0  I loooooooovvvvvveee my Kindle2. Not that the ...  positive  sentiment-140\n",
       "1  Reading my kindle2. . . Love it . . . Lee chil...  positive  sentiment-140\n",
       "2  Ok , first assesment of the #kindle2 . . . it ...  positive  sentiment-140\n",
       "3  You'll love your Kindle2. I've had mine for a ...  positive  sentiment-140\n",
       "4  Fair enough . But i have the Kindle2 and I thi...  positive  sentiment-140"
      ]
     },
     "execution_count": 6,
     "metadata": {},
     "output_type": "execute_result"
    }
   ],
   "source": [
    "test=pd.read_csv('test_data.csv')\n",
    "test.head()"
   ]
  },
  {
   "cell_type": "markdown",
   "id": "2ebe40fc",
   "metadata": {},
   "source": [
    "### 1. Text Processing"
   ]
  },
  {
   "cell_type": "markdown",
   "id": "3cc7887c",
   "metadata": {},
   "source": [
    "- All lower-case\n",
    "- Remove url\n",
    "- Expand short forms\n",
    "- Remove punctuations (except \"!!!\")\n",
    "- Tokenization\n",
    "- Remove numbers \n",
    "- Remove stop words\n"
   ]
  },
  {
   "cell_type": "code",
   "execution_count": 9,
   "id": "7eab57fa",
   "metadata": {},
   "outputs": [],
   "source": [
    "def clean_text(df):\n",
    "    all_posts = list()\n",
    "    lines = df[\"text\"].values.tolist()\n",
    "    for text in lines:\n",
    "        #All lower-case\n",
    "        text = text.lower() \n",
    "        \n",
    "        #Remove url\n",
    "        pattern = re.compile('http[s]?://(?:[a-zA-Z]|[0-9]|[$-_@.&+]|[!*\\(\\),]|(?:%[0-9a-fA-F][0-9a-fA-F]))+') \n",
    "        text = pattern.sub('', text)\n",
    "        \n",
    "        #Expand short forms\n",
    "        text = re.sub(r\"i'm\", \"i am\", text)\n",
    "        text = re.sub(r\"he's\", \"he is\", text)\n",
    "        text = re.sub(r\"she's\", \"she is\", text)\n",
    "        text = re.sub(r\"that's\", \"that is\", text)        \n",
    "        text = re.sub(r\"what's\", \"what is\", text)\n",
    "        text = re.sub(r\"where's\", \"where is\", text) \n",
    "        text = re.sub(r\"\\'ll\", \" will\", text)  \n",
    "        text = re.sub(r\"\\'ve\", \" have\", text)  \n",
    "        text = re.sub(r\"\\'re\", \" are\", text)\n",
    "        text = re.sub(r\"\\'d\", \" would\", text)\n",
    "        text = re.sub(r\"\\'ve\", \" have\", text)\n",
    "        text = re.sub(r\"won't\", \"will not\", text)\n",
    "        text = re.sub(r\"wont\", \"will not\", text)\n",
    "        text = re.sub(r\"don't\", \"do not\", text)\n",
    "        text = re.sub(r\"dont\", \"do not\", text)\n",
    "        text = re.sub(r\"did't\", \"did not\", text)\n",
    "        text = re.sub(r\"didnt\", \"did not\", text)\n",
    "        text = re.sub(r\"can't\", \"can not\", text)\n",
    "        text = re.sub(r\"cant\", \"can not\", text)\n",
    "        text = re.sub(r\"it's\", \"it is\", text)\n",
    "        text = re.sub(r\"couldn't\", \"could not\", text)\n",
    "        text = re.sub(r\"have't\", \"have not\", text)\n",
    "        \n",
    "        #substitute emoji\n",
    "        text = re.sub(r\":\\)\", \"happy\", text)\n",
    "        text = re.sub(r\":\\(\", \"sad\", text)\n",
    "        \n",
    "        #Remove punctuations \"!\" not included\n",
    "        text = re.sub(r\"[,.\\\"@#$%^&*(){}?/;`~:<>+=-]\", \"\", text)\n",
    "        \n",
    "        #Tokenize for furthur processing\n",
    "        tokens = word_tokenize(text)\n",
    "        \n",
    "        #Remove punctuations\n",
    "        table = str.maketrans('', '', string.punctuation)\n",
    "        stripped = [w.translate(table) for w in tokens]\n",
    "        \n",
    "        #Remove numbers\n",
    "        words = [word for word in stripped if word.isalpha()]\n",
    "        \n",
    "        #Remove stop words\n",
    "\n",
    "        stop_words = set(stopwords.words(\"english\"))\n",
    "        stop_words.discard(\"not\")\n",
    "        stop_words.discard(\"no\")\n",
    "        stop_words.discard(\"never\")\n",
    "        stop_words.discard(\"why\")\n",
    "        words = [w for w in words if not w in stop_words]\n",
    "        \n",
    "        #token to sentence\n",
    "        words = ' '.join(words)\n",
    "        all_posts.append(words)\n",
    "    return all_posts\n"
   ]
  },
  {
   "cell_type": "code",
   "execution_count": 10,
   "id": "ed0c2c49",
   "metadata": {},
   "outputs": [
    {
     "data": {
      "text/plain": [
       "['ahhh hope ok',\n",
       " 'cool no tweet apps razr',\n",
       " 'know family drama lamehey next time u hang kim n u guys like sleepover whatever ill call u',\n",
       " 'school email not open geography stuff revise stupid school',\n",
       " 'upper airways problem']"
      ]
     },
     "execution_count": 10,
     "metadata": {},
     "output_type": "execute_result"
    }
   ],
   "source": [
    "all_posts_train = clean_text(train)\n",
    "all_posts_train[0:5]"
   ]
  },
  {
   "cell_type": "code",
   "execution_count": 11,
   "id": "92909e00",
   "metadata": {},
   "outputs": [],
   "source": [
    "train['cleaned_text']=all_posts_train"
   ]
  },
  {
   "cell_type": "code",
   "execution_count": 12,
   "id": "c40b05b3",
   "metadata": {},
   "outputs": [
    {
     "data": {
      "text/html": [
       "<div>\n",
       "<style scoped>\n",
       "    .dataframe tbody tr th:only-of-type {\n",
       "        vertical-align: middle;\n",
       "    }\n",
       "\n",
       "    .dataframe tbody tr th {\n",
       "        vertical-align: top;\n",
       "    }\n",
       "\n",
       "    .dataframe thead th {\n",
       "        text-align: right;\n",
       "    }\n",
       "</style>\n",
       "<table border=\"1\" class=\"dataframe\">\n",
       "  <thead>\n",
       "    <tr style=\"text-align: right;\">\n",
       "      <th></th>\n",
       "      <th>text</th>\n",
       "      <th>cleaned_text</th>\n",
       "      <th>label</th>\n",
       "    </tr>\n",
       "  </thead>\n",
       "  <tbody>\n",
       "    <tr>\n",
       "      <th>0</th>\n",
       "      <td>AHHH I HOPE YOUR OK ! ! !</td>\n",
       "      <td>ahhh hope ok</td>\n",
       "      <td>negative</td>\n",
       "    </tr>\n",
       "    <tr>\n",
       "      <th>1</th>\n",
       "      <td>cool , i have no tweet apps for my razr 2</td>\n",
       "      <td>cool no tweet apps razr</td>\n",
       "      <td>negative</td>\n",
       "    </tr>\n",
       "    <tr>\n",
       "      <th>2</th>\n",
       "      <td>i know just family drama . its lame.hey next t...</td>\n",
       "      <td>know family drama lamehey next time u hang kim...</td>\n",
       "      <td>negative</td>\n",
       "    </tr>\n",
       "    <tr>\n",
       "      <th>3</th>\n",
       "      <td>School email won't open and I have geography s...</td>\n",
       "      <td>school email not open geography stuff revise s...</td>\n",
       "      <td>negative</td>\n",
       "    </tr>\n",
       "    <tr>\n",
       "      <th>4</th>\n",
       "      <td>upper airways problem</td>\n",
       "      <td>upper airways problem</td>\n",
       "      <td>negative</td>\n",
       "    </tr>\n",
       "  </tbody>\n",
       "</table>\n",
       "</div>"
      ],
      "text/plain": [
       "                                                text  \\\n",
       "0                          AHHH I HOPE YOUR OK ! ! !   \n",
       "1          cool , i have no tweet apps for my razr 2   \n",
       "2  i know just family drama . its lame.hey next t...   \n",
       "3  School email won't open and I have geography s...   \n",
       "4                              upper airways problem   \n",
       "\n",
       "                                        cleaned_text     label  \n",
       "0                                       ahhh hope ok  negative  \n",
       "1                            cool no tweet apps razr  negative  \n",
       "2  know family drama lamehey next time u hang kim...  negative  \n",
       "3  school email not open geography stuff revise s...  negative  \n",
       "4                              upper airways problem  negative  "
      ]
     },
     "execution_count": 12,
     "metadata": {},
     "output_type": "execute_result"
    }
   ],
   "source": [
    "train=train[['text','cleaned_text','label']]\n",
    "train.head()"
   ]
  },
  {
   "cell_type": "code",
   "execution_count": 13,
   "id": "41c3e223",
   "metadata": {},
   "outputs": [
    {
     "data": {
      "text/html": [
       "<div>\n",
       "<style scoped>\n",
       "    .dataframe tbody tr th:only-of-type {\n",
       "        vertical-align: middle;\n",
       "    }\n",
       "\n",
       "    .dataframe tbody tr th {\n",
       "        vertical-align: top;\n",
       "    }\n",
       "\n",
       "    .dataframe thead th {\n",
       "        text-align: right;\n",
       "    }\n",
       "</style>\n",
       "<table border=\"1\" class=\"dataframe\">\n",
       "  <thead>\n",
       "    <tr style=\"text-align: right;\">\n",
       "      <th></th>\n",
       "      <th>text</th>\n",
       "      <th>cleaned_text</th>\n",
       "      <th>label</th>\n",
       "    </tr>\n",
       "  </thead>\n",
       "  <tbody>\n",
       "    <tr>\n",
       "      <th>0</th>\n",
       "      <td>I loooooooovvvvvveee my Kindle2. Not that the ...</td>\n",
       "      <td>loooooooovvvvvveee not dx cool fantastic right</td>\n",
       "      <td>positive</td>\n",
       "    </tr>\n",
       "    <tr>\n",
       "      <th>1</th>\n",
       "      <td>Reading my kindle2. . . Love it . . . Lee chil...</td>\n",
       "      <td>reading love lee childs good read</td>\n",
       "      <td>positive</td>\n",
       "    </tr>\n",
       "    <tr>\n",
       "      <th>2</th>\n",
       "      <td>Ok , first assesment of the #kindle2 . . . it ...</td>\n",
       "      <td>ok first assesment fucking rocks</td>\n",
       "      <td>positive</td>\n",
       "    </tr>\n",
       "    <tr>\n",
       "      <th>3</th>\n",
       "      <td>You'll love your Kindle2. I've had mine for a ...</td>\n",
       "      <td>love mine months never looked back new big one...</td>\n",
       "      <td>positive</td>\n",
       "    </tr>\n",
       "    <tr>\n",
       "      <th>4</th>\n",
       "      <td>Fair enough . But i have the Kindle2 and I thi...</td>\n",
       "      <td>fair enough think perfect happy</td>\n",
       "      <td>positive</td>\n",
       "    </tr>\n",
       "  </tbody>\n",
       "</table>\n",
       "</div>"
      ],
      "text/plain": [
       "                                                text  \\\n",
       "0  I loooooooovvvvvveee my Kindle2. Not that the ...   \n",
       "1  Reading my kindle2. . . Love it . . . Lee chil...   \n",
       "2  Ok , first assesment of the #kindle2 . . . it ...   \n",
       "3  You'll love your Kindle2. I've had mine for a ...   \n",
       "4  Fair enough . But i have the Kindle2 and I thi...   \n",
       "\n",
       "                                        cleaned_text     label  \n",
       "0     loooooooovvvvvveee not dx cool fantastic right  positive  \n",
       "1                  reading love lee childs good read  positive  \n",
       "2                   ok first assesment fucking rocks  positive  \n",
       "3  love mine months never looked back new big one...  positive  \n",
       "4                    fair enough think perfect happy  positive  "
      ]
     },
     "execution_count": 13,
     "metadata": {},
     "output_type": "execute_result"
    }
   ],
   "source": [
    "all_posts_test = clean_text(test)\n",
    "test['cleaned_text']=all_posts_test\n",
    "test=test[['text','cleaned_text','label']]\n",
    "test.head()"
   ]
  },
  {
   "cell_type": "markdown",
   "id": "28b46e41",
   "metadata": {},
   "source": [
    "### 2. Model training & evaluation"
   ]
  },
  {
   "cell_type": "markdown",
   "id": "bf5e5cd9",
   "metadata": {},
   "source": [
    "#### 2.1 prepare train test data"
   ]
  },
  {
   "cell_type": "code",
   "execution_count": 14,
   "id": "0ee9b134",
   "metadata": {},
   "outputs": [],
   "source": [
    "from sklearn.feature_extraction.text import TfidfVectorizer #feature engineer\n",
    "from sklearn.decomposition import TruncatedSVD #dimension reduction\n",
    "from sklearn.preprocessing import LabelEncoder #label encoding"
   ]
  },
  {
   "cell_type": "code",
   "execution_count": 15,
   "id": "0a1dae14",
   "metadata": {},
   "outputs": [],
   "source": [
    "#label encoding\n",
    "LE = LabelEncoder()\n",
    "train['label_num'] = LE.fit_transform(train['label'])\n",
    "test['label_num'] = LE.fit_transform(test['label'])\n",
    "#negative:0\n",
    "#neutral:1\n",
    "#positive:2"
   ]
  },
  {
   "cell_type": "code",
   "execution_count": 16,
   "id": "09318e45",
   "metadata": {},
   "outputs": [
    {
     "name": "stdout",
     "output_type": "stream",
     "text": [
      "(40053, 7015)\n",
      "(40053,)\n"
     ]
    }
   ],
   "source": [
    "#feature engineer\n",
    "tfidf_vectorizer = TfidfVectorizer(min_df = 5)\n",
    "\n",
    "X_train= tfidf_vectorizer.fit_transform(train['cleaned_text']) #features\n",
    "y_train= train['label_num'].values #target\n",
    "\n",
    "print (X_train.shape)\n",
    "print(y_train.shape)"
   ]
  },
  {
   "cell_type": "code",
   "execution_count": 17,
   "id": "70000b11",
   "metadata": {},
   "outputs": [
    {
     "data": {
      "text/plain": [
       "(40053, 100)"
      ]
     },
     "execution_count": 17,
     "metadata": {},
     "output_type": "execute_result"
    }
   ],
   "source": [
    "#dimension reduction\n",
    "lsa = TruncatedSVD(n_components=100, \n",
    "                   n_iter=10, \n",
    "                   random_state=3)\n",
    "\n",
    "X_train = lsa.fit_transform(X_train)\n",
    "X_train.shape"
   ]
  },
  {
   "cell_type": "code",
   "execution_count": 18,
   "id": "fbfb36a5",
   "metadata": {},
   "outputs": [
    {
     "name": "stdout",
     "output_type": "stream",
     "text": [
      "(6082, 7015)\n",
      "(6082,)\n"
     ]
    }
   ],
   "source": [
    "#feature engineer\n",
    "X_test= tfidf_vectorizer.transform(test['cleaned_text']) #features\n",
    "y_test= test['label_num'].values #target\n",
    "\n",
    "print (X_test.shape)\n",
    "print(y_test.shape)"
   ]
  },
  {
   "cell_type": "code",
   "execution_count": 19,
   "id": "1b48dc28",
   "metadata": {},
   "outputs": [
    {
     "data": {
      "text/plain": [
       "(6082, 100)"
      ]
     },
     "execution_count": 19,
     "metadata": {},
     "output_type": "execute_result"
    }
   ],
   "source": [
    "#dimension reduction\n",
    "X_test = lsa.transform(X_test)\n",
    "X_test.shape"
   ]
  },
  {
   "cell_type": "markdown",
   "id": "ed241627",
   "metadata": {},
   "source": [
    "#### 2.2 experiment different models"
   ]
  },
  {
   "cell_type": "code",
   "execution_count": 20,
   "id": "a4d0c3fd",
   "metadata": {},
   "outputs": [],
   "source": [
    "from sklearn.dummy import DummyClassifier\n",
    "from sklearn.naive_bayes import GaussianNB\n",
    "from sklearn.tree import DecisionTreeClassifier\n",
    "from sklearn.ensemble import RandomForestClassifier, AdaBoostClassifier\n",
    "from sklearn.neighbors import KNeighborsClassifier"
   ]
  },
  {
   "cell_type": "code",
   "execution_count": 21,
   "id": "8b97dcd8",
   "metadata": {},
   "outputs": [],
   "source": [
    "from sklearn.metrics import accuracy_score, precision_score, recall_score, f1_score, roc_curve, auc, confusion_matrix"
   ]
  },
  {
   "cell_type": "code",
   "execution_count": 22,
   "id": "fc2c2041",
   "metadata": {},
   "outputs": [],
   "source": [
    "#create a dict of the models\n",
    "model_dict = {'Dummy' : DummyClassifier(),\n",
    "              'Decsision Tree': DecisionTreeClassifier(),\n",
    "              'Random Forest': RandomForestClassifier(),\n",
    "              'AdaBoost': AdaBoostClassifier(),\n",
    "              'Gaussian Naive Bayes': GaussianNB(),\n",
    "              'K Nearest Neighbor': KNeighborsClassifier()}\n"
   ]
  },
  {
   "cell_type": "code",
   "execution_count": 23,
   "id": "96a53766",
   "metadata": {
    "scrolled": false
   },
   "outputs": [
    {
     "data": {
      "text/html": [
       "<div>\n",
       "<style scoped>\n",
       "    .dataframe tbody tr th:only-of-type {\n",
       "        vertical-align: middle;\n",
       "    }\n",
       "\n",
       "    .dataframe tbody tr th {\n",
       "        vertical-align: top;\n",
       "    }\n",
       "\n",
       "    .dataframe thead th {\n",
       "        text-align: right;\n",
       "    }\n",
       "</style>\n",
       "<table border=\"1\" class=\"dataframe\">\n",
       "  <thead>\n",
       "    <tr style=\"text-align: right;\">\n",
       "      <th></th>\n",
       "      <th>model_name</th>\n",
       "      <th>accuracy_score</th>\n",
       "      <th>precision_score</th>\n",
       "      <th>recall_score</th>\n",
       "      <th>f1_score</th>\n",
       "    </tr>\n",
       "  </thead>\n",
       "  <tbody>\n",
       "    <tr>\n",
       "      <th>2</th>\n",
       "      <td>Random Forest</td>\n",
       "      <td>0.609339</td>\n",
       "      <td>0.597</td>\n",
       "      <td>0.59635</td>\n",
       "      <td>0.590595</td>\n",
       "    </tr>\n",
       "    <tr>\n",
       "      <th>3</th>\n",
       "      <td>AdaBoost</td>\n",
       "      <td>0.566426</td>\n",
       "      <td>0.551304</td>\n",
       "      <td>0.552421</td>\n",
       "      <td>0.545379</td>\n",
       "    </tr>\n",
       "    <tr>\n",
       "      <th>5</th>\n",
       "      <td>K Nearest Neighbor</td>\n",
       "      <td>0.54949</td>\n",
       "      <td>0.552702</td>\n",
       "      <td>0.544515</td>\n",
       "      <td>0.540771</td>\n",
       "    </tr>\n",
       "    <tr>\n",
       "      <th>1</th>\n",
       "      <td>Decsision Tree</td>\n",
       "      <td>0.479448</td>\n",
       "      <td>0.470986</td>\n",
       "      <td>0.471049</td>\n",
       "      <td>0.470777</td>\n",
       "    </tr>\n",
       "    <tr>\n",
       "      <th>4</th>\n",
       "      <td>Gaussian Naive Bayes</td>\n",
       "      <td>0.480434</td>\n",
       "      <td>0.507912</td>\n",
       "      <td>0.476016</td>\n",
       "      <td>0.463437</td>\n",
       "    </tr>\n",
       "    <tr>\n",
       "      <th>0</th>\n",
       "      <td>Dummy</td>\n",
       "      <td>0.349227</td>\n",
       "      <td>0.345812</td>\n",
       "      <td>0.346062</td>\n",
       "      <td>0.345819</td>\n",
       "    </tr>\n",
       "  </tbody>\n",
       "</table>\n",
       "</div>"
      ],
      "text/plain": [
       "             model_name accuracy_score precision_score recall_score  f1_score\n",
       "2         Random Forest       0.609339           0.597      0.59635  0.590595\n",
       "3              AdaBoost       0.566426        0.551304     0.552421  0.545379\n",
       "5    K Nearest Neighbor        0.54949        0.552702     0.544515  0.540771\n",
       "1        Decsision Tree       0.479448        0.470986     0.471049  0.470777\n",
       "4  Gaussian Naive Bayes       0.480434        0.507912     0.476016  0.463437\n",
       "0                 Dummy       0.349227        0.345812     0.346062  0.345819"
      ]
     },
     "execution_count": 23,
     "metadata": {},
     "output_type": "execute_result"
    }
   ],
   "source": [
    "#fit model and calculate score\n",
    "def model_score_df(model_dict):   \n",
    "    model_name, ac_score_list, p_score_list, r_score_list, f1_score_list = [], [], [], [], []\n",
    "    for k,v in model_dict.items():   \n",
    "        model_name.append(k)\n",
    "        v.fit(X_train, y_train)\n",
    "        y_pred = v.predict(X_test)\n",
    "        ac_score_list.append(accuracy_score(y_test, y_pred))\n",
    "        p_score_list.append(precision_score(y_test, y_pred, average='macro'))\n",
    "        r_score_list.append(recall_score(y_test, y_pred, average='macro'))\n",
    "        f1_score_list.append(f1_score(y_test, y_pred, average='macro'))\n",
    "        model_comparison_df = pd.DataFrame([model_name, ac_score_list, p_score_list, r_score_list, f1_score_list]).T\n",
    "        model_comparison_df.columns = ['model_name', 'accuracy_score', 'precision_score', 'recall_score', 'f1_score']\n",
    "        model_comparison_df = model_comparison_df.sort_values(by='f1_score', ascending=False)\n",
    "    return model_comparison_df\n",
    "\n",
    "model_score_df(model_dict)"
   ]
  },
  {
   "cell_type": "code",
   "execution_count": 24,
   "id": "50be0622",
   "metadata": {},
   "outputs": [],
   "source": [
    "from sklearn.model_selection import GridSearchCV"
   ]
  },
  {
   "cell_type": "code",
   "execution_count": 25,
   "id": "a3efe5fe",
   "metadata": {},
   "outputs": [
    {
     "name": "stdout",
     "output_type": "stream",
     "text": [
      "Best Hyperparameters: {'max_depth': 8, 'min_samples_leaf': 8, 'n_estimators': 10}\n"
     ]
    }
   ],
   "source": [
    "#tune best model parameter\n",
    "#random forest\n",
    "\n",
    "param_grid = {\n",
    "    'n_estimators': [10],\n",
    "    'max_depth': [2, 4, 6, 8],\n",
    "    'min_samples_leaf': [2, 4, 6, 8]\n",
    "}\n",
    "\n",
    "rf = RandomForestClassifier()\n",
    "grid_search = GridSearchCV(estimator=rf, param_grid=param_grid, cv=5, scoring='accuracy')\n",
    "grid_search.fit(X_train, y_train)\n",
    "\n",
    "print(\"Best Hyperparameters:\", grid_search.best_params_)"
   ]
  },
  {
   "cell_type": "code",
   "execution_count": null,
   "id": "5f6eb4c2",
   "metadata": {},
   "outputs": [],
   "source": [
    "# best parameter model perform worse than default model, maybe overfit"
   ]
  },
  {
   "cell_type": "code",
   "execution_count": 27,
   "id": "74ef68c5",
   "metadata": {},
   "outputs": [
    {
     "name": "stdout",
     "output_type": "stream",
     "text": [
      "accuracy is: 0.6139427819796119\n",
      "precision is: 0.6033318782663109\n",
      "recall is: 0.6013243019722442\n",
      "f1 is 0.5965204410007544\n"
     ]
    }
   ],
   "source": [
    "rf = RandomForestClassifier()#use default model\n",
    "rf.fit(X_train, y_train)\n",
    "y_pred = rf.predict(X_test)\n",
    "print('accuracy is:',accuracy_score(y_test, y_pred))\n",
    "print('precision is:',precision_score(y_test, y_pred, average='macro'))\n",
    "print('recall is:',recall_score(y_test, y_pred, average='macro'))\n",
    "print('f1 is',f1_score(y_test, y_pred, average='macro'))"
   ]
  },
  {
   "cell_type": "markdown",
   "id": "0b77d331",
   "metadata": {},
   "source": [
    "#### Random forest is the best model."
   ]
  },
  {
   "cell_type": "markdown",
   "id": "01f3a865",
   "metadata": {},
   "source": [
    "#### 2.3 result evaluation"
   ]
  },
  {
   "cell_type": "code",
   "execution_count": 28,
   "id": "64756bd4",
   "metadata": {},
   "outputs": [],
   "source": [
    "import matplotlib.pyplot as plt\n",
    "import seaborn as sns"
   ]
  },
  {
   "cell_type": "code",
   "execution_count": 29,
   "id": "517d8b3c",
   "metadata": {},
   "outputs": [],
   "source": [
    "conf_mat = confusion_matrix(y_test, y_pred,labels=[0, 1, 2])\n",
    "class_names = ['negative', 'neutral', 'positive']"
   ]
  },
  {
   "cell_type": "code",
   "execution_count": 30,
   "id": "4cb6dd96",
   "metadata": {},
   "outputs": [
    {
     "data": {
      "image/png": "[encoded data removed]",
      "text/plain": [
       "<Figure size 576x432 with 2 Axes>"
      ]
     },
     "metadata": {
      "needs_background": "light"
     },
     "output_type": "display_data"
    }
   ],
   "source": [
    "fig, ax = plt.subplots(figsize=(8,6))\n",
    "sns.heatmap(conf_mat, annot=True, fmt='d',\n",
    "            xticklabels=class_names, yticklabels=class_names)\n",
    "plt.ylabel('Actual')\n",
    "plt.xlabel('Predicted')\n",
    "plt.show()"
   ]
  },
  {
   "cell_type": "code",
   "execution_count": 31,
   "id": "34c96466",
   "metadata": {},
   "outputs": [
    {
     "data": {
      "text/plain": [
       "array([[1416,  285,  274],\n",
       "       [ 615,  702,  437],\n",
       "       [ 417,  320, 1616]], dtype=int64)"
      ]
     },
     "execution_count": 31,
     "metadata": {},
     "output_type": "execute_result"
    }
   ],
   "source": [
    "conf_mat"
   ]
  },
  {
   "cell_type": "code",
   "execution_count": 32,
   "id": "aae1a3d2",
   "metadata": {},
   "outputs": [
    {
     "name": "stdout",
     "output_type": "stream",
     "text": [
      "negative precision: 0.5784313725490197\n",
      "neutral precision: 0.5371078806426932\n",
      "positive precision: 0.6944563816072196\n"
     ]
    }
   ],
   "source": [
    "print('negative precision:',conf_mat[0,0]/sum(conf_mat[:,0]))\n",
    "print('neutral precision:',conf_mat[1,1]/sum(conf_mat[:,1]))\n",
    "print('positive precision:',conf_mat[2,2]/sum(conf_mat[:,2]))"
   ]
  },
  {
   "cell_type": "code",
   "execution_count": 33,
   "id": "a36f5cbb",
   "metadata": {},
   "outputs": [
    {
     "name": "stdout",
     "output_type": "stream",
     "text": [
      "negative recall: 0.7169620253164557\n",
      "neutral recall: 0.40022805017103763\n",
      "positive recall: 0.6867828304292393\n"
     ]
    }
   ],
   "source": [
    "print('negative recall:',conf_mat[0,0]/sum(conf_mat[0,:]))\n",
    "print('neutral recall:',conf_mat[1,1]/sum(conf_mat[1,:]))\n",
    "print('positive recall:',conf_mat[2,2]/sum(conf_mat[2,:]))"
   ]
  },
  {
   "cell_type": "code",
   "execution_count": 9,
   "id": "05551b1f",
   "metadata": {},
   "outputs": [
    {
     "data": {
      "text/plain": [
       "label\n",
       "negative    13652\n",
       "neutral     11767\n",
       "positive    14634\n",
       "Name: label, dtype: int64"
      ]
     },
     "execution_count": 9,
     "metadata": {},
     "output_type": "execute_result"
    }
   ],
   "source": [
    "train.groupby('label')['label'].count() "
   ]
  },
  {
   "cell_type": "markdown",
   "id": "ce4e3f28",
   "metadata": {},
   "source": [
    "#### Positive sentiments are best classified, neutral sentiments are classified worst.\n",
    "- Data Imbalance: the number of positive and negative instances is much larger than the number of neutral instances. This can cause the model to favor the majority class and perform poorly on the minority class.\n",
    "\n",
    "- Neutral sentiments often lack clear positive or negative cues, making them harder to classify. "
   ]
  },
  {
   "cell_type": "markdown",
   "id": "8256501f",
   "metadata": {},
   "source": [
    "### 3. Error analysis"
   ]
  },
  {
   "cell_type": "markdown",
   "id": "444e047b",
   "metadata": {},
   "source": [
    "The below part is different from report. The text processing part is modified to account for some problems."
   ]
  },
  {
   "cell_type": "code",
   "execution_count": 34,
   "id": "e1d362be",
   "metadata": {},
   "outputs": [],
   "source": [
    "test['predicted_label']=y_pred"
   ]
  },
  {
   "cell_type": "code",
   "execution_count": 35,
   "id": "824387ad",
   "metadata": {},
   "outputs": [
    {
     "data": {
      "text/html": [
       "<div>\n",
       "<style scoped>\n",
       "    .dataframe tbody tr th:only-of-type {\n",
       "        vertical-align: middle;\n",
       "    }\n",
       "\n",
       "    .dataframe tbody tr th {\n",
       "        vertical-align: top;\n",
       "    }\n",
       "\n",
       "    .dataframe thead th {\n",
       "        text-align: right;\n",
       "    }\n",
       "</style>\n",
       "<table border=\"1\" class=\"dataframe\">\n",
       "  <thead>\n",
       "    <tr style=\"text-align: right;\">\n",
       "      <th></th>\n",
       "      <th>text</th>\n",
       "      <th>cleaned_text</th>\n",
       "      <th>label</th>\n",
       "      <th>label_num</th>\n",
       "      <th>predicted_label</th>\n",
       "    </tr>\n",
       "  </thead>\n",
       "  <tbody>\n",
       "    <tr>\n",
       "      <th>0</th>\n",
       "      <td>I loooooooovvvvvveee my Kindle2. Not that the ...</td>\n",
       "      <td>loooooooovvvvvveee not dx cool fantastic right</td>\n",
       "      <td>positive</td>\n",
       "      <td>2</td>\n",
       "      <td>1</td>\n",
       "    </tr>\n",
       "    <tr>\n",
       "      <th>1</th>\n",
       "      <td>Reading my kindle2. . . Love it . . . Lee chil...</td>\n",
       "      <td>reading love lee childs good read</td>\n",
       "      <td>positive</td>\n",
       "      <td>2</td>\n",
       "      <td>2</td>\n",
       "    </tr>\n",
       "    <tr>\n",
       "      <th>2</th>\n",
       "      <td>Ok , first assesment of the #kindle2 . . . it ...</td>\n",
       "      <td>ok first assesment fucking rocks</td>\n",
       "      <td>positive</td>\n",
       "      <td>2</td>\n",
       "      <td>1</td>\n",
       "    </tr>\n",
       "    <tr>\n",
       "      <th>3</th>\n",
       "      <td>You'll love your Kindle2. I've had mine for a ...</td>\n",
       "      <td>love mine months never looked back new big one...</td>\n",
       "      <td>positive</td>\n",
       "      <td>2</td>\n",
       "      <td>2</td>\n",
       "    </tr>\n",
       "    <tr>\n",
       "      <th>4</th>\n",
       "      <td>Fair enough . But i have the Kindle2 and I thi...</td>\n",
       "      <td>fair enough think perfect happy</td>\n",
       "      <td>positive</td>\n",
       "      <td>2</td>\n",
       "      <td>2</td>\n",
       "    </tr>\n",
       "    <tr>\n",
       "      <th>5</th>\n",
       "      <td>no . it is too big . I'm quite happy with the ...</td>\n",
       "      <td>no big quite happy</td>\n",
       "      <td>positive</td>\n",
       "      <td>2</td>\n",
       "      <td>2</td>\n",
       "    </tr>\n",
       "    <tr>\n",
       "      <th>6</th>\n",
       "      <td>Fuck this economy . I hate aig and their non l...</td>\n",
       "      <td>fuck economy hate aig non loan given asses</td>\n",
       "      <td>negative</td>\n",
       "      <td>0</td>\n",
       "      <td>0</td>\n",
       "    </tr>\n",
       "    <tr>\n",
       "      <th>7</th>\n",
       "      <td>Jquery is my new best friend .</td>\n",
       "      <td>jquery new best friend</td>\n",
       "      <td>positive</td>\n",
       "      <td>2</td>\n",
       "      <td>2</td>\n",
       "    </tr>\n",
       "    <tr>\n",
       "      <th>8</th>\n",
       "      <td>how can you not love Obama ? he makes jokes ab...</td>\n",
       "      <td>not love obama makes jokes</td>\n",
       "      <td>positive</td>\n",
       "      <td>2</td>\n",
       "      <td>2</td>\n",
       "    </tr>\n",
       "    <tr>\n",
       "      <th>9</th>\n",
       "      <td>Check this video out - - President Obama at th...</td>\n",
       "      <td>check video president obama white house corres...</td>\n",
       "      <td>neutral</td>\n",
       "      <td>1</td>\n",
       "      <td>1</td>\n",
       "    </tr>\n",
       "  </tbody>\n",
       "</table>\n",
       "</div>"
      ],
      "text/plain": [
       "                                                text  \\\n",
       "0  I loooooooovvvvvveee my Kindle2. Not that the ...   \n",
       "1  Reading my kindle2. . . Love it . . . Lee chil...   \n",
       "2  Ok , first assesment of the #kindle2 . . . it ...   \n",
       "3  You'll love your Kindle2. I've had mine for a ...   \n",
       "4  Fair enough . But i have the Kindle2 and I thi...   \n",
       "5  no . it is too big . I'm quite happy with the ...   \n",
       "6  Fuck this economy . I hate aig and their non l...   \n",
       "7                     Jquery is my new best friend .   \n",
       "8  how can you not love Obama ? he makes jokes ab...   \n",
       "9  Check this video out - - President Obama at th...   \n",
       "\n",
       "                                        cleaned_text     label  label_num  \\\n",
       "0     loooooooovvvvvveee not dx cool fantastic right  positive          2   \n",
       "1                  reading love lee childs good read  positive          2   \n",
       "2                   ok first assesment fucking rocks  positive          2   \n",
       "3  love mine months never looked back new big one...  positive          2   \n",
       "4                    fair enough think perfect happy  positive          2   \n",
       "5                                 no big quite happy  positive          2   \n",
       "6         fuck economy hate aig non loan given asses  negative          0   \n",
       "7                             jquery new best friend  positive          2   \n",
       "8                         not love obama makes jokes  positive          2   \n",
       "9  check video president obama white house corres...   neutral          1   \n",
       "\n",
       "   predicted_label  \n",
       "0                1  \n",
       "1                2  \n",
       "2                1  \n",
       "3                2  \n",
       "4                2  \n",
       "5                2  \n",
       "6                0  \n",
       "7                2  \n",
       "8                2  \n",
       "9                1  "
      ]
     },
     "execution_count": 35,
     "metadata": {},
     "output_type": "execute_result"
    }
   ],
   "source": [
    "test.head(10)"
   ]
  },
  {
   "cell_type": "code",
   "execution_count": 36,
   "id": "f098c596",
   "metadata": {},
   "outputs": [
    {
     "data": {
      "text/plain": [
       "(2348, 5)"
      ]
     },
     "execution_count": 36,
     "metadata": {},
     "output_type": "execute_result"
    }
   ],
   "source": [
    "error_data=test[test['label_num']!=test['predicted_label']]\n",
    "error_data.shape"
   ]
  },
  {
   "cell_type": "markdown",
   "id": "351c7373",
   "metadata": {},
   "source": [
    "#### There are 6 types of errors. Below are some potential reasons."
   ]
  },
  {
   "cell_type": "markdown",
   "id": "787fb94b",
   "metadata": {},
   "source": [
    "- the TF-IDF model takes into account the frequency and importance of each word in a corpus, so if the overall context and usage of the words in the corpus do not indicate a negative sentiment, the model may not classify the sentence as negative. this explanation applies to all errors. data balance is important.\n",
    "- misspell: can't to cant, so the negative \"not\" is not identified (dealt with in text processing part)\n",
    "- should not remove some punctuations like \"!\", ':(', ':)' or should replace them as words (dealt with in text processing part)\n"
   ]
  },
  {
   "cell_type": "markdown",
   "id": "ca3a8de4",
   "metadata": {},
   "source": [
    "- some positive words mixed: firmly believe, dear, cheering, glad\n",
    "- wrong label: Lebron is a Beast , but I'm still cheering 4 the A..til the end. it looks positive to me? 165, 200 hard to tell if they are positive or sarcasm\n",
    "- multiple emotions within one text\n",
    "- punctuations without space is a problem. after removing punctuation, multiple words are joined"
   ]
  },
  {
   "cell_type": "markdown",
   "id": "4be92542",
   "metadata": {},
   "source": [
    "#### 3.1 negative classified as neutral 0->1"
   ]
  },
  {
   "cell_type": "code",
   "execution_count": 37,
   "id": "ddac53e6",
   "metadata": {},
   "outputs": [],
   "source": [
    "pd.set_option('display.max_colwidth', None)"
   ]
  },
  {
   "cell_type": "code",
   "execution_count": 38,
   "id": "7a49e593",
   "metadata": {
    "scrolled": true
   },
   "outputs": [
    {
     "data": {
      "text/html": [
       "<div>\n",
       "<style scoped>\n",
       "    .dataframe tbody tr th:only-of-type {\n",
       "        vertical-align: middle;\n",
       "    }\n",
       "\n",
       "    .dataframe tbody tr th {\n",
       "        vertical-align: top;\n",
       "    }\n",
       "\n",
       "    .dataframe thead th {\n",
       "        text-align: right;\n",
       "    }\n",
       "</style>\n",
       "<table border=\"1\" class=\"dataframe\">\n",
       "  <thead>\n",
       "    <tr style=\"text-align: right;\">\n",
       "      <th></th>\n",
       "      <th>cleaned_text</th>\n",
       "      <th>text</th>\n",
       "    </tr>\n",
       "  </thead>\n",
       "  <tbody>\n",
       "    <tr>\n",
       "      <th>33</th>\n",
       "      <td>us planning resume military tribunals guantanamo bay time trial aig execs chrysler debt holders</td>\n",
       "      <td>US planning to resume the military tribunals at Guantanamo Bay . . . only this time those on trial will be AIG execs and Chrysler debt holders</td>\n",
       "    </tr>\n",
       "    <tr>\n",
       "      <th>35</th>\n",
       "      <td>itchy miserable</td>\n",
       "      <td>I'm itchy and miserable !</td>\n",
       "    </tr>\n",
       "    <tr>\n",
       "      <th>36</th>\n",
       "      <td>no not itchy maybe later lol</td>\n",
       "      <td>no . I'm not itchy for now . Maybe later , lol .</td>\n",
       "    </tr>\n",
       "    <tr>\n",
       "      <th>43</th>\n",
       "      <td>glad not bay breakers today freaking degrees san francisco wtf</td>\n",
       "      <td>glad i didnt do Bay to Breakers today , it's 1000 freaking degrees in San Francisco wtf</td>\n",
       "    </tr>\n",
       "    <tr>\n",
       "      <th>47</th>\n",
       "      <td>obama administration must stop bonuses aig ponzi schemers</td>\n",
       "      <td>? Obama Administration Must Stop Bonuses to AIG Ponzi Schemers . . .</td>\n",
       "    </tr>\n",
       "    <tr>\n",
       "      <th>58</th>\n",
       "      <td>omg commercials alone espn going drive nuts</td>\n",
       "      <td>omg . The commercials alone on ESPN are going to drive me nuts .</td>\n",
       "    </tr>\n",
       "    <tr>\n",
       "      <th>71</th>\n",
       "      <td>told nike layoffs started today</td>\n",
       "      <td>: Was just told that Nike layoffs started today :-(</td>\n",
       "    </tr>\n",
       "    <tr>\n",
       "      <th>86</th>\n",
       "      <td>go ahead blow north korea map already</td>\n",
       "      <td>Can we just go ahead and blow North Korea off the map already ?</td>\n",
       "    </tr>\n",
       "    <tr>\n",
       "      <th>101</th>\n",
       "      <td>dick cheney dishonest speech torture terror obama fred kaplan slate</td>\n",
       "      <td>Dick Cheney's dishonest speech about torture , terror , and Obama . - Fred Kaplan Slate .</td>\n",
       "    </tr>\n",
       "    <tr>\n",
       "      <th>145</th>\n",
       "      <td>time warner devil worst possible time internet go</td>\n",
       "      <td>Time warner is the devil . Worst possible time for the Internet to go out .</td>\n",
       "    </tr>\n",
       "  </tbody>\n",
       "</table>\n",
       "</div>"
      ],
      "text/plain": [
       "                                                                                        cleaned_text  \\\n",
       "33   us planning resume military tribunals guantanamo bay time trial aig execs chrysler debt holders   \n",
       "35                                                                                   itchy miserable   \n",
       "36                                                                      no not itchy maybe later lol   \n",
       "43                                    glad not bay breakers today freaking degrees san francisco wtf   \n",
       "47                                         obama administration must stop bonuses aig ponzi schemers   \n",
       "58                                                       omg commercials alone espn going drive nuts   \n",
       "71                                                                   told nike layoffs started today   \n",
       "86                                                             go ahead blow north korea map already   \n",
       "101                              dick cheney dishonest speech torture terror obama fred kaplan slate   \n",
       "145                                                time warner devil worst possible time internet go   \n",
       "\n",
       "                                                                                                                                               text  \n",
       "33   US planning to resume the military tribunals at Guantanamo Bay . . . only this time those on trial will be AIG execs and Chrysler debt holders  \n",
       "35                                                                                                                        I'm itchy and miserable !  \n",
       "36                                                                                                 no . I'm not itchy for now . Maybe later , lol .  \n",
       "43                                                          glad i didnt do Bay to Breakers today , it's 1000 freaking degrees in San Francisco wtf  \n",
       "47                                                                             ? Obama Administration Must Stop Bonuses to AIG Ponzi Schemers . . .  \n",
       "58                                                                                 omg . The commercials alone on ESPN are going to drive me nuts .  \n",
       "71                                                                                              : Was just told that Nike layoffs started today :-(  \n",
       "86                                                                                  Can we just go ahead and blow North Korea off the map already ?  \n",
       "101                                                       Dick Cheney's dishonest speech about torture , terror , and Obama . - Fred Kaplan Slate .  \n",
       "145                                                                     Time warner is the devil . Worst possible time for the Internet to go out .  "
      ]
     },
     "execution_count": 38,
     "metadata": {},
     "output_type": "execute_result"
    }
   ],
   "source": [
    "error_data[(error_data['label_num']==0) & (error_data['predicted_label']==1)][['cleaned_text','text']].head(10)"
   ]
  },
  {
   "cell_type": "markdown",
   "id": "6d3fc8ef",
   "metadata": {},
   "source": [
    "#### 3.2 negative classified as positive 0->2"
   ]
  },
  {
   "cell_type": "code",
   "execution_count": 39,
   "id": "025bd0ff",
   "metadata": {
    "scrolled": false
   },
   "outputs": [
    {
     "data": {
      "text/html": [
       "<div>\n",
       "<style scoped>\n",
       "    .dataframe tbody tr th:only-of-type {\n",
       "        vertical-align: middle;\n",
       "    }\n",
       "\n",
       "    .dataframe tbody tr th {\n",
       "        vertical-align: top;\n",
       "    }\n",
       "\n",
       "    .dataframe thead th {\n",
       "        text-align: right;\n",
       "    }\n",
       "</style>\n",
       "<table border=\"1\" class=\"dataframe\">\n",
       "  <thead>\n",
       "    <tr style=\"text-align: right;\">\n",
       "      <th></th>\n",
       "      <th>cleaned_text</th>\n",
       "      <th>text</th>\n",
       "    </tr>\n",
       "  </thead>\n",
       "  <tbody>\n",
       "    <tr>\n",
       "      <th>13</th>\n",
       "      <td>dear nike stop flywire shit waste science ugly love</td>\n",
       "      <td>dear nike , stop with the flywire . that shit is a waste of science . and ugly . love , @vincentx24x</td>\n",
       "    </tr>\n",
       "    <tr>\n",
       "      <th>15</th>\n",
       "      <td>talking guy last night telling die hard spurs fan also told hates lebron james</td>\n",
       "      <td>I was talking to this guy last night and he was telling me that he is a die hard Spurs fan . He also told me that he hates LeBron James .</td>\n",
       "    </tr>\n",
       "    <tr>\n",
       "      <th>53</th>\n",
       "      <td>annoying new trend internets people picking apart michael lewis malcolm gladwell nobody wants read</td>\n",
       "      <td>annoying new trend on the internets : people picking apart michael lewis and malcolm gladwell . nobody wants to read that .</td>\n",
       "    </tr>\n",
       "    <tr>\n",
       "      <th>63</th>\n",
       "      <td>twitter api slow client nt good</td>\n",
       "      <td>Because the twitter api is slow and most client's aren't good .</td>\n",
       "    </tr>\n",
       "    <tr>\n",
       "      <th>91</th>\n",
       "      <td>wish could catch every mosquito world n burn em slowlythey bitin shit outta mosquitos assholes insects</td>\n",
       "      <td>wish i could catch every mosquito in the world n burn em slowly.they been bitin the shit outta me 2day. mosquitos are the assholes of insects</td>\n",
       "    </tr>\n",
       "    <tr>\n",
       "      <th>99</th>\n",
       "      <td>cheney bush real culprits</td>\n",
       "      <td>Cheney and Bush are the real culprits -</td>\n",
       "    </tr>\n",
       "    <tr>\n",
       "      <th>135</th>\n",
       "      <td>night museum tonite instead sad oh well yr old better enjoy lol</td>\n",
       "      <td>Night at the Museum tonite instead of UP . :( oh well . that 4 yr old better enjoy it . LOL</td>\n",
       "    </tr>\n",
       "    <tr>\n",
       "      <th>139</th>\n",
       "      <td>oh yes gm dies worth boo hahaha</td>\n",
       "      <td>oh yes but if GM dies it will only be worth more boo hahaha</td>\n",
       "    </tr>\n",
       "    <tr>\n",
       "      <th>140</th>\n",
       "      <td>time warner cable time since memorial day bummer</td>\n",
       "      <td>Time Warner cable is down again 3rd time since Memorial Day bummer !</td>\n",
       "    </tr>\n",
       "    <tr>\n",
       "      <th>143</th>\n",
       "      <td>f ck time warner cable f cking suck balls hd tv damn hd channels hardly ever come bullshit</td>\n",
       "      <td>F * ck Time Warner Cable ! ! ! You f * cking suck balls ! ! ! I have a $700 HD tv &amp; my damn HD channels hardly ever come in . Bullshit ! !</td>\n",
       "    </tr>\n",
       "  </tbody>\n",
       "</table>\n",
       "</div>"
      ],
      "text/plain": [
       "                                                                                               cleaned_text  \\\n",
       "13                                                      dear nike stop flywire shit waste science ugly love   \n",
       "15                           talking guy last night telling die hard spurs fan also told hates lebron james   \n",
       "53       annoying new trend internets people picking apart michael lewis malcolm gladwell nobody wants read   \n",
       "63                                                                          twitter api slow client nt good   \n",
       "91   wish could catch every mosquito world n burn em slowlythey bitin shit outta mosquitos assholes insects   \n",
       "99                                                                                cheney bush real culprits   \n",
       "135                                         night museum tonite instead sad oh well yr old better enjoy lol   \n",
       "139                                                                         oh yes gm dies worth boo hahaha   \n",
       "140                                                        time warner cable time since memorial day bummer   \n",
       "143              f ck time warner cable f cking suck balls hd tv damn hd channels hardly ever come bullshit   \n",
       "\n",
       "                                                                                                                                              text  \n",
       "13                                            dear nike , stop with the flywire . that shit is a waste of science . and ugly . love , @vincentx24x  \n",
       "15       I was talking to this guy last night and he was telling me that he is a die hard Spurs fan . He also told me that he hates LeBron James .  \n",
       "53                     annoying new trend on the internets : people picking apart michael lewis and malcolm gladwell . nobody wants to read that .  \n",
       "63                                                                                 Because the twitter api is slow and most client's aren't good .  \n",
       "91   wish i could catch every mosquito in the world n burn em slowly.they been bitin the shit outta me 2day. mosquitos are the assholes of insects  \n",
       "99                                                                                                         Cheney and Bush are the real culprits -  \n",
       "135                                                    Night at the Museum tonite instead of UP . :( oh well . that 4 yr old better enjoy it . LOL  \n",
       "139                                                                                    oh yes but if GM dies it will only be worth more boo hahaha  \n",
       "140                                                                           Time Warner cable is down again 3rd time since Memorial Day bummer !  \n",
       "143     F * ck Time Warner Cable ! ! ! You f * cking suck balls ! ! ! I have a $700 HD tv & my damn HD channels hardly ever come in . Bullshit ! !  "
      ]
     },
     "execution_count": 39,
     "metadata": {},
     "output_type": "execute_result"
    }
   ],
   "source": [
    "error_data[(error_data['label_num']==0) & (error_data['predicted_label']==2)][['cleaned_text','text']].head(10)"
   ]
  },
  {
   "cell_type": "markdown",
   "id": "22e6ca16",
   "metadata": {},
   "source": [
    "#### 3.3 neutral classified as negative 1->0"
   ]
  },
  {
   "cell_type": "code",
   "execution_count": 40,
   "id": "855f5078",
   "metadata": {
    "scrolled": false
   },
   "outputs": [
    {
     "data": {
      "text/html": [
       "<div>\n",
       "<style scoped>\n",
       "    .dataframe tbody tr th:only-of-type {\n",
       "        vertical-align: middle;\n",
       "    }\n",
       "\n",
       "    .dataframe tbody tr th {\n",
       "        vertical-align: top;\n",
       "    }\n",
       "\n",
       "    .dataframe thead th {\n",
       "        text-align: right;\n",
       "    }\n",
       "</style>\n",
       "<table border=\"1\" class=\"dataframe\">\n",
       "  <thead>\n",
       "    <tr style=\"text-align: right;\">\n",
       "      <th></th>\n",
       "      <th>cleaned_text</th>\n",
       "      <th>text</th>\n",
       "    </tr>\n",
       "  </thead>\n",
       "  <tbody>\n",
       "    <tr>\n",
       "      <th>74</th>\n",
       "      <td>giving weka app engine interface using bird strike data tests logo given</td>\n",
       "      <td>giving weka an app engine interface , using the bird strike data for the tests , the logo is a given .</td>\n",
       "    </tr>\n",
       "    <tr>\n",
       "      <th>75</th>\n",
       "      <td>brand new canon eos dslr camera canon lens web technology thread brand new canon eos</td>\n",
       "      <td>Brand New Canon EOS 50D 15MP DSLR Camera Canon 17-85mm IS Lens . . . : Web Technology Thread , Brand New Canon EOS 5. .</td>\n",
       "    </tr>\n",
       "    <tr>\n",
       "      <th>128</th>\n",
       "      <td>going see night museum tall boy</td>\n",
       "      <td>Going to see night at the museum 2 with tall boy</td>\n",
       "    </tr>\n",
       "    <tr>\n",
       "      <th>156</th>\n",
       "      <td>myfoxdc barrie students back trip china silver spring high school class trip china en</td>\n",
       "      <td>myfoxdc Barrie Students Back from Trip to China : A Silver Spring high school's class trip to China has en . .</td>\n",
       "    </tr>\n",
       "    <tr>\n",
       "      <th>172</th>\n",
       "      <td>sony coupon code expires soon</td>\n",
       "      <td>Sony coupon code . . Expires soon . .</td>\n",
       "    </tr>\n",
       "    <tr>\n",
       "      <th>175</th>\n",
       "      <td>not realize gym safeway</td>\n",
       "      <td>Did not realize there is a gym above Safeway !</td>\n",
       "    </tr>\n",
       "    <tr>\n",
       "      <th>184</th>\n",
       "      <td>normal weight get normal eating blog</td>\n",
       "      <td>Your Normal Weight ( and How to Get There ) ? Normal Eating Blog</td>\n",
       "    </tr>\n",
       "    <tr>\n",
       "      <th>202</th>\n",
       "      <td>allstar basketball classic tuesday features top talent chattanooga notre dame high school play host</td>\n",
       "      <td>All-Star Basketball Classic Tuesday Features Top Talent : Chattanooga's Notre Dame High School will play host . .</td>\n",
       "    </tr>\n",
       "    <tr>\n",
       "      <th>211</th>\n",
       "      <td>man accosts roger federer french open</td>\n",
       "      <td>Man accosts Roger Federer during French Open</td>\n",
       "    </tr>\n",
       "    <tr>\n",
       "      <th>262</th>\n",
       "      <td>ok nothing thinking</td>\n",
       "      <td>ok . . do nothing . . just thinking about 40D</td>\n",
       "    </tr>\n",
       "  </tbody>\n",
       "</table>\n",
       "</div>"
      ],
      "text/plain": [
       "                                                                                            cleaned_text  \\\n",
       "74                              giving weka app engine interface using bird strike data tests logo given   \n",
       "75                  brand new canon eos dslr camera canon lens web technology thread brand new canon eos   \n",
       "128                                                                      going see night museum tall boy   \n",
       "156                myfoxdc barrie students back trip china silver spring high school class trip china en   \n",
       "172                                                                        sony coupon code expires soon   \n",
       "175                                                                              not realize gym safeway   \n",
       "184                                                                 normal weight get normal eating blog   \n",
       "202  allstar basketball classic tuesday features top talent chattanooga notre dame high school play host   \n",
       "211                                                                man accosts roger federer french open   \n",
       "262                                                                                  ok nothing thinking   \n",
       "\n",
       "                                                                                                                        text  \n",
       "74                    giving weka an app engine interface , using the bird strike data for the tests , the logo is a given .  \n",
       "75   Brand New Canon EOS 50D 15MP DSLR Camera Canon 17-85mm IS Lens . . . : Web Technology Thread , Brand New Canon EOS 5. .  \n",
       "128                                                                         Going to see night at the museum 2 with tall boy  \n",
       "156           myfoxdc Barrie Students Back from Trip to China : A Silver Spring high school's class trip to China has en . .  \n",
       "172                                                                                    Sony coupon code . . Expires soon . .  \n",
       "175                                                                           Did not realize there is a gym above Safeway !  \n",
       "184                                                         Your Normal Weight ( and How to Get There ) ? Normal Eating Blog  \n",
       "202        All-Star Basketball Classic Tuesday Features Top Talent : Chattanooga's Notre Dame High School will play host . .  \n",
       "211                                                                             Man accosts Roger Federer during French Open  \n",
       "262                                                                            ok . . do nothing . . just thinking about 40D  "
      ]
     },
     "execution_count": 40,
     "metadata": {},
     "output_type": "execute_result"
    }
   ],
   "source": [
    "error_data[(error_data['label_num']==1) & (error_data['predicted_label']==0)][['cleaned_text','text']].head(10)"
   ]
  },
  {
   "cell_type": "markdown",
   "id": "40eed0f3",
   "metadata": {},
   "source": [
    "#### 3.4 neutral classified as positive 1->2\n"
   ]
  },
  {
   "cell_type": "code",
   "execution_count": 41,
   "id": "c37a8f05",
   "metadata": {
    "scrolled": false
   },
   "outputs": [
    {
     "data": {
      "text/html": [
       "<div>\n",
       "<style scoped>\n",
       "    .dataframe tbody tr th:only-of-type {\n",
       "        vertical-align: middle;\n",
       "    }\n",
       "\n",
       "    .dataframe tbody tr th {\n",
       "        vertical-align: top;\n",
       "    }\n",
       "\n",
       "    .dataframe thead th {\n",
       "        text-align: right;\n",
       "    }\n",
       "</style>\n",
       "<table border=\"1\" class=\"dataframe\">\n",
       "  <thead>\n",
       "    <tr style=\"text-align: right;\">\n",
       "      <th></th>\n",
       "      <th>cleaned_text</th>\n",
       "      <th>text</th>\n",
       "    </tr>\n",
       "  </thead>\n",
       "  <tbody>\n",
       "    <tr>\n",
       "      <th>29</th>\n",
       "      <td>need suggestions good ir filter canon got pls dm</td>\n",
       "      <td>need suggestions for a good IR filter for my canon 40D . . . got some ? pls DM</td>\n",
       "    </tr>\n",
       "    <tr>\n",
       "      <th>30</th>\n",
       "      <td>checked google business blip shows second entry huh good ba</td>\n",
       "      <td>: I just checked my google for my business - blip shows up as the second entry ! Huh . Is that a good or ba . . . ? ~ 6emhv</td>\n",
       "    </tr>\n",
       "    <tr>\n",
       "      <th>52</th>\n",
       "      <td>going see star trek soon dad</td>\n",
       "      <td>Going to see star trek soon with my dad .</td>\n",
       "    </tr>\n",
       "    <tr>\n",
       "      <th>106</th>\n",
       "      <td>jquery ui book review</td>\n",
       "      <td>jQuery UI 1.6 Book Review -</td>\n",
       "    </tr>\n",
       "    <tr>\n",
       "      <th>119</th>\n",
       "      <td>hi anyone great source advice viral marketing</td>\n",
       "      <td>Hi there , does anyone have a great source for advice on viral marketing ? . . .</td>\n",
       "    </tr>\n",
       "    <tr>\n",
       "      <th>125</th>\n",
       "      <td>going see new night museum movie family oh boy three year old movies fuin</td>\n",
       "      <td>going to see the new night at the museum movie with my family oh boy a three year old in the movies fuin</td>\n",
       "    </tr>\n",
       "    <tr>\n",
       "      <th>127</th>\n",
       "      <td>saw new night museum movieit wasokaylol</td>\n",
       "      <td>Just saw the new Night at the Museum movie...it was...okay...lol 7 \\ 10</td>\n",
       "    </tr>\n",
       "    <tr>\n",
       "      <th>133</th>\n",
       "      <td>saw night museum battle swithsonian today okay typical kids ben stiller movie</td>\n",
       "      <td>I saw Night at the Museum : Battle of the Swithsonian today . It was okay . Your typical [ kids ] Ben Stiller movie .</td>\n",
       "    </tr>\n",
       "    <tr>\n",
       "      <th>157</th>\n",
       "      <td>three china aerospace giants develop tianjin binhai new area b yuan invested</td>\n",
       "      <td>Three China aerospace giants develop Tianjin Binhai New Area , 22.9 B yuan invested</td>\n",
       "    </tr>\n",
       "    <tr>\n",
       "      <th>162</th>\n",
       "      <td>dentist tomorrow brush well morning like make hair nice get cut why</td>\n",
       "      <td>Dentist tomorrow . Have to brush well in the morning . Like I make my hair all nice before I get it cut . Why ?</td>\n",
       "    </tr>\n",
       "  </tbody>\n",
       "</table>\n",
       "</div>"
      ],
      "text/plain": [
       "                                                                      cleaned_text  \\\n",
       "29                                need suggestions good ir filter canon got pls dm   \n",
       "30                     checked google business blip shows second entry huh good ba   \n",
       "52                                                    going see star trek soon dad   \n",
       "106                                                          jquery ui book review   \n",
       "119                                  hi anyone great source advice viral marketing   \n",
       "125      going see new night museum movie family oh boy three year old movies fuin   \n",
       "127                                        saw new night museum movieit wasokaylol   \n",
       "133  saw night museum battle swithsonian today okay typical kids ben stiller movie   \n",
       "157   three china aerospace giants develop tianjin binhai new area b yuan invested   \n",
       "162            dentist tomorrow brush well morning like make hair nice get cut why   \n",
       "\n",
       "                                                                                                                            text  \n",
       "29                                                need suggestions for a good IR filter for my canon 40D . . . got some ? pls DM  \n",
       "30   : I just checked my google for my business - blip shows up as the second entry ! Huh . Is that a good or ba . . . ? ~ 6emhv  \n",
       "52                                                                                     Going to see star trek soon with my dad .  \n",
       "106                                                                                                  jQuery UI 1.6 Book Review -  \n",
       "119                                             Hi there , does anyone have a great source for advice on viral marketing ? . . .  \n",
       "125                     going to see the new night at the museum movie with my family oh boy a three year old in the movies fuin  \n",
       "127                                                      Just saw the new Night at the Museum movie...it was...okay...lol 7 \\ 10  \n",
       "133        I saw Night at the Museum : Battle of the Swithsonian today . It was okay . Your typical [ kids ] Ben Stiller movie .  \n",
       "157                                          Three China aerospace giants develop Tianjin Binhai New Area , 22.9 B yuan invested  \n",
       "162              Dentist tomorrow . Have to brush well in the morning . Like I make my hair all nice before I get it cut . Why ?  "
      ]
     },
     "execution_count": 41,
     "metadata": {},
     "output_type": "execute_result"
    }
   ],
   "source": [
    "error_data[(error_data['label_num']==1) & (error_data['predicted_label']==2)][['cleaned_text','text']].head(10)"
   ]
  },
  {
   "cell_type": "markdown",
   "id": "d4055134",
   "metadata": {},
   "source": [
    "#### 3.5 positive classified as negative 2->0\n"
   ]
  },
  {
   "cell_type": "code",
   "execution_count": 42,
   "id": "47ee9fc2",
   "metadata": {
    "scrolled": false
   },
   "outputs": [
    {
     "data": {
      "text/html": [
       "<div>\n",
       "<style scoped>\n",
       "    .dataframe tbody tr th:only-of-type {\n",
       "        vertical-align: middle;\n",
       "    }\n",
       "\n",
       "    .dataframe tbody tr th {\n",
       "        vertical-align: top;\n",
       "    }\n",
       "\n",
       "    .dataframe thead th {\n",
       "        text-align: right;\n",
       "    }\n",
       "</style>\n",
       "<table border=\"1\" class=\"dataframe\">\n",
       "  <thead>\n",
       "    <tr style=\"text-align: right;\">\n",
       "      <th></th>\n",
       "      <th>cleaned_text</th>\n",
       "      <th>text</th>\n",
       "    </tr>\n",
       "  </thead>\n",
       "  <tbody>\n",
       "    <tr>\n",
       "      <th>21</th>\n",
       "      <td>lebron beast nobody nba comes even close</td>\n",
       "      <td>Lebron is a beast . . . nobody in the NBA comes even close .</td>\n",
       "    </tr>\n",
       "    <tr>\n",
       "      <th>25</th>\n",
       "      <td>montreal long weekend r r much needed</td>\n",
       "      <td>In montreal for a long weekend of R &amp; R . Much needed .</td>\n",
       "    </tr>\n",
       "    <tr>\n",
       "      <th>26</th>\n",
       "      <td>booz allen hamilton bad ass homegrown social collaboration platform way cool ttiv</td>\n",
       "      <td>Booz Allen Hamilton has a bad ass homegrown social collaboration platform . Way cool ! #ttiv</td>\n",
       "    </tr>\n",
       "    <tr>\n",
       "      <th>27</th>\n",
       "      <td>customer innovation award winner booz allen hamilton</td>\n",
       "      <td>[ #MLUC09 ] Customer Innovation Award Winner : Booz Allen Hamilton - -</td>\n",
       "    </tr>\n",
       "    <tr>\n",
       "      <th>113</th>\n",
       "      <td>ok lots buzz lucky free</td>\n",
       "      <td>Ok so lots of buzz from IO2009 but how lucky are they - a Free G2 ! !</td>\n",
       "    </tr>\n",
       "    <tr>\n",
       "      <th>161</th>\n",
       "      <td>wrist still hurts get looked hate dr dentist scary places sad time watch eagle eye want join txt</td>\n",
       "      <td>My wrist still hurts . I have to get it looked at . I HATE the dr / dentist / scary places . :( Time to watch Eagle eye . If you want to join , txt !</td>\n",
       "    </tr>\n",
       "    <tr>\n",
       "      <th>190</th>\n",
       "      <td>lovin nike already running spot bedroom</td>\n",
       "      <td>is lovin his Nike already and that's only from running on the spot in his bedroom</td>\n",
       "    </tr>\n",
       "    <tr>\n",
       "      <th>191</th>\n",
       "      <td>finally got around using jquery make bio collapse yay slide animations</td>\n",
       "      <td>I finally got around to using jquery to make my bio collapse . Yay for slide animations .</td>\n",
       "    </tr>\n",
       "    <tr>\n",
       "      <th>200</th>\n",
       "      <td>warren buffet became time richest man united states not working investing big idea lead fortune</td>\n",
       "      <td>Warren Buffet became ( for a time ) the richest man in the United States , not by working but investing in 1 Big idea which lead to the fortune</td>\n",
       "    </tr>\n",
       "    <tr>\n",
       "      <th>213</th>\n",
       "      <td>went stanford university today got tour made want go back college also decided kids go</td>\n",
       "      <td>We went to Stanford University today . Got a tour . Made me want to go back to college . It's also decided all of our kids will go there .</td>\n",
       "    </tr>\n",
       "  </tbody>\n",
       "</table>\n",
       "</div>"
      ],
      "text/plain": [
       "                                                                                         cleaned_text  \\\n",
       "21                                                           lebron beast nobody nba comes even close   \n",
       "25                                                              montreal long weekend r r much needed   \n",
       "26                  booz allen hamilton bad ass homegrown social collaboration platform way cool ttiv   \n",
       "27                                               customer innovation award winner booz allen hamilton   \n",
       "113                                                                           ok lots buzz lucky free   \n",
       "161  wrist still hurts get looked hate dr dentist scary places sad time watch eagle eye want join txt   \n",
       "190                                                           lovin nike already running spot bedroom   \n",
       "191                            finally got around using jquery make bio collapse yay slide animations   \n",
       "200   warren buffet became time richest man united states not working investing big idea lead fortune   \n",
       "213            went stanford university today got tour made want go back college also decided kids go   \n",
       "\n",
       "                                                                                                                                                      text  \n",
       "21                                                                                            Lebron is a beast . . . nobody in the NBA comes even close .  \n",
       "25                                                                                                 In montreal for a long weekend of R & R . Much needed .  \n",
       "26                                                            Booz Allen Hamilton has a bad ass homegrown social collaboration platform . Way cool ! #ttiv  \n",
       "27                                                                                  [ #MLUC09 ] Customer Innovation Award Winner : Booz Allen Hamilton - -  \n",
       "113                                                                                  Ok so lots of buzz from IO2009 but how lucky are they - a Free G2 ! !  \n",
       "161  My wrist still hurts . I have to get it looked at . I HATE the dr / dentist / scary places . :( Time to watch Eagle eye . If you want to join , txt !  \n",
       "190                                                                      is lovin his Nike already and that's only from running on the spot in his bedroom  \n",
       "191                                                              I finally got around to using jquery to make my bio collapse . Yay for slide animations .  \n",
       "200        Warren Buffet became ( for a time ) the richest man in the United States , not by working but investing in 1 Big idea which lead to the fortune  \n",
       "213             We went to Stanford University today . Got a tour . Made me want to go back to college . It's also decided all of our kids will go there .  "
      ]
     },
     "execution_count": 42,
     "metadata": {},
     "output_type": "execute_result"
    }
   ],
   "source": [
    "error_data[(error_data['label_num']==2) & (error_data['predicted_label']==0)][['cleaned_text','text']].head(10)"
   ]
  },
  {
   "cell_type": "markdown",
   "id": "60d14d47",
   "metadata": {},
   "source": [
    "#### 3.6 positive classified as neutral 2->1"
   ]
  },
  {
   "cell_type": "code",
   "execution_count": 43,
   "id": "5f64ab3b",
   "metadata": {},
   "outputs": [
    {
     "data": {
      "text/html": [
       "<div>\n",
       "<style scoped>\n",
       "    .dataframe tbody tr th:only-of-type {\n",
       "        vertical-align: middle;\n",
       "    }\n",
       "\n",
       "    .dataframe tbody tr th {\n",
       "        vertical-align: top;\n",
       "    }\n",
       "\n",
       "    .dataframe thead th {\n",
       "        text-align: right;\n",
       "    }\n",
       "</style>\n",
       "<table border=\"1\" class=\"dataframe\">\n",
       "  <thead>\n",
       "    <tr style=\"text-align: right;\">\n",
       "      <th></th>\n",
       "      <th>cleaned_text</th>\n",
       "      <th>text</th>\n",
       "    </tr>\n",
       "  </thead>\n",
       "  <tbody>\n",
       "    <tr>\n",
       "      <th>0</th>\n",
       "      <td>loooooooovvvvvveee not dx cool fantastic right</td>\n",
       "      <td>I loooooooovvvvvveee my Kindle2. Not that the DX is cool , but the 2 is fantastic in its own right .</td>\n",
       "    </tr>\n",
       "    <tr>\n",
       "      <th>2</th>\n",
       "      <td>ok first assesment fucking rocks</td>\n",
       "      <td>Ok , first assesment of the #kindle2 . . . it fucking rocks ! ! !</td>\n",
       "    </tr>\n",
       "    <tr>\n",
       "      <th>11</th>\n",
       "      <td>house correspondents dinner last night whoopi barbara sherri went obama got standing ovation</td>\n",
       "      <td>House Correspondents dinner was last night whoopi , barbara &amp; sherri went , Obama got a standing ovation</td>\n",
       "    </tr>\n",
       "    <tr>\n",
       "      <th>12</th>\n",
       "      <td>watchin espnjus seen new nike commerical puppet lebronsh hilariouslmao</td>\n",
       "      <td>Watchin Espn..Jus seen this new Nike Commerical with a Puppet Lebron..sh * t was hilarious...LMAO ! ! !</td>\n",
       "    </tr>\n",
       "    <tr>\n",
       "      <th>18</th>\n",
       "      <td>lebron boss</td>\n",
       "      <td>lebron IS THE BOSS</td>\n",
       "    </tr>\n",
       "    <tr>\n",
       "      <th>40</th>\n",
       "      <td>going sleep bike ride</td>\n",
       "      <td>is going to sleep then on a bike ride :]</td>\n",
       "    </tr>\n",
       "    <tr>\n",
       "      <th>50</th>\n",
       "      <td>not regret going see star trek awesome</td>\n",
       "      <td>you will not regret going to see Star Trek . It was AWESOME !</td>\n",
       "    </tr>\n",
       "    <tr>\n",
       "      <th>61</th>\n",
       "      <td>hello twitter api</td>\n",
       "      <td>Hello Twitter API ;)</td>\n",
       "    </tr>\n",
       "    <tr>\n",
       "      <th>65</th>\n",
       "      <td>scrapbooking nic</td>\n",
       "      <td>is scrapbooking with Nic =D</td>\n",
       "    </tr>\n",
       "    <tr>\n",
       "      <th>73</th>\n",
       "      <td>way totally inspired freaky nike commercial</td>\n",
       "      <td>By the way , I'm totally inspired by this freaky Nike commercial :</td>\n",
       "    </tr>\n",
       "  </tbody>\n",
       "</table>\n",
       "</div>"
      ],
      "text/plain": [
       "                                                                                    cleaned_text  \\\n",
       "0                                                 loooooooovvvvvveee not dx cool fantastic right   \n",
       "2                                                               ok first assesment fucking rocks   \n",
       "11  house correspondents dinner last night whoopi barbara sherri went obama got standing ovation   \n",
       "12                        watchin espnjus seen new nike commerical puppet lebronsh hilariouslmao   \n",
       "18                                                                                   lebron boss   \n",
       "40                                                                         going sleep bike ride   \n",
       "50                                                        not regret going see star trek awesome   \n",
       "61                                                                             hello twitter api   \n",
       "65                                                                              scrapbooking nic   \n",
       "73                                                   way totally inspired freaky nike commercial   \n",
       "\n",
       "                                                                                                        text  \n",
       "0       I loooooooovvvvvveee my Kindle2. Not that the DX is cool , but the 2 is fantastic in its own right .  \n",
       "2                                          Ok , first assesment of the #kindle2 . . . it fucking rocks ! ! !  \n",
       "11  House Correspondents dinner was last night whoopi , barbara & sherri went , Obama got a standing ovation  \n",
       "12   Watchin Espn..Jus seen this new Nike Commerical with a Puppet Lebron..sh * t was hilarious...LMAO ! ! !  \n",
       "18                                                                                        lebron IS THE BOSS  \n",
       "40                                                                  is going to sleep then on a bike ride :]  \n",
       "50                                             you will not regret going to see Star Trek . It was AWESOME !  \n",
       "61                                                                                      Hello Twitter API ;)  \n",
       "65                                                                               is scrapbooking with Nic =D  \n",
       "73                                        By the way , I'm totally inspired by this freaky Nike commercial :  "
      ]
     },
     "execution_count": 43,
     "metadata": {},
     "output_type": "execute_result"
    }
   ],
   "source": [
    "error_data[(error_data['label_num']==2) & (error_data['predicted_label']==1)][['cleaned_text','text']].head(10)"
   ]
  },
  {
   "cell_type": "code",
   "execution_count": null,
   "id": "530f333f",
   "metadata": {},
   "outputs": [],
   "source": []
  }
 ],
 "metadata": {
  "kernelspec": {
   "display_name": "Python 3",
   "language": "python",
   "name": "python3"
  },
  "language_info": {
   "codemirror_mode": {
    "name": "ipython",
    "version": 3
   },
   "file_extension": ".py",
   "mimetype": "text/x-python",
   "name": "python",
   "nbconvert_exporter": "python",
   "pygments_lexer": "ipython3",
   "version": "3.8.3"
  }
 },
 "nbformat": 4,
 "nbformat_minor": 5
}
